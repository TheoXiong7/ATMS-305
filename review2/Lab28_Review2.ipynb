{
  "nbformat": 4,
  "nbformat_minor": 0,
  "metadata": {
    "colab": {
      "provenance": []
    },
    "kernelspec": {
      "name": "python3",
      "display_name": "Python 3"
    }
  },
  "cells": [
    {
      "cell_type": "code",
      "metadata": {
        "id": "nHlCt0wZmS4n"
      },
      "source": [
        "# ATMS 305, Fall 2024 -- Lab28: Review2"
      ],
      "execution_count": null,
      "outputs": []
    },
    {
      "cell_type": "code",
      "source": [
        "import numpy as np\n",
        "import xarray as xr"
      ],
      "metadata": {
        "id": "s7au7DjnLV2j"
      },
      "execution_count": 3,
      "outputs": []
    },
    {
      "cell_type": "code",
      "source": [
        "# TEXT\n",
        "FHR = np.array([ 05, 08, 11, 14, 17, 20, 23, 26, 29, 32, 35, 38, 41, 44, 47, 50, 53, 56, 59, 62, 65, 68, 71])\n",
        "TMP = np.array([ 49, 48, 41, 37, 35, 32, 31, 33, 36, 37, 36, 37, 38, 38, 39, 42, 45, 45, 42, 40, 39, 37, 36])\n",
        "DPT = np.array([ 31, 28, 27, 27, 26, 25, 24, 25 ,27, 30, 32, 33, 34, 35, 36, 38, 38, 37, 36, 35, 35, 34, 33])\n",
        "GST = np.array([ 25, 28, 22, 20, 19, 22, 24, 26 ,31, 34, 29, 26, 22, 20, 20, 21, 23, 22, 17, 15, 13, 12, 10])"
      ],
      "metadata": {
        "id": "Df_P55FVJVdM",
        "colab": {
          "base_uri": "https://localhost:8080/",
          "height": 106
        },
        "outputId": "1c29e8e8-044c-405d-fa11-a7c4fae3375a"
      },
      "execution_count": 2,
      "outputs": [
        {
          "output_type": "error",
          "ename": "SyntaxError",
          "evalue": "leading zeros in decimal integer literals are not permitted; use an 0o prefix for octal integers (<ipython-input-2-f585b2b21500>, line 2)",
          "traceback": [
            "\u001b[0;36m  File \u001b[0;32m\"<ipython-input-2-f585b2b21500>\"\u001b[0;36m, line \u001b[0;32m2\u001b[0m\n\u001b[0;31m    FHR = np.array([ 05, 08, 11, 14, 17, 20, 23, 26, 29, 32, 35, 38, 41, 44, 47, 50, 53, 56, 59, 62, 65, 68, 71])\u001b[0m\n\u001b[0m                     ^\u001b[0m\n\u001b[0;31mSyntaxError\u001b[0m\u001b[0;31m:\u001b[0m leading zeros in decimal integer literals are not permitted; use an 0o prefix for octal integers\n"
          ]
        }
      ]
    },
    {
      "cell_type": "code",
      "source": [
        "# KATRINA\n",
        "\n",
        "# Given: Get/open data set, read pressure, longitude, latitude, close data set.\n",
        "\n",
        "!wget -N 'rfd.atmos.uiuc.edu/305/Katrina/kat4km.nc'\n",
        "DS = xr.open_dataset('kat4km.nc');\n",
        "pres = DS.PSFC[0,:] / 100;     # converts Pa (pascals) to hPa (1 hPa = 1 mb)\n",
        "lat  = DS.XLAT[0,:]            # latitude in degrees N\n",
        "lon  = DS.XLONG[0,:]           # longitude in degrees E\n",
        "DS.close();\n",
        "\n",
        "# City list:\n",
        "\n",
        "cities = [[\"MSY\",29.99,-90.26],\n",
        "          [\"TLH\",30.40,-84.35],\n",
        "          [\"MOB\",30.69,-88.24]]\n",
        "\n",
        "# Show cities!  Your print() statement goes here.\n",
        "\n",
        "#for (cityname,citylat,citylon) in cities:\n",
        "\n"
      ],
      "metadata": {
        "id": "OuRlVG1FjdBL",
        "colab": {
          "base_uri": "https://localhost:8080/"
        },
        "outputId": "9bc0236c-1d64-4840-ac8e-7bdb0ba2dd90"
      },
      "execution_count": null,
      "outputs": [
        {
          "output_type": "stream",
          "name": "stdout",
          "text": [
            "--2024-11-20 20:05:02--  http://rfd.atmos.uiuc.edu/305/Katrina/kat4km.nc\n",
            "Resolving rfd.atmos.uiuc.edu (rfd.atmos.uiuc.edu)... 192.17.107.225\n",
            "Connecting to rfd.atmos.uiuc.edu (rfd.atmos.uiuc.edu)|192.17.107.225|:80... connected.\n",
            "HTTP request sent, awaiting response... 200 OK\n",
            "Length: 163471565 (156M) [application/x-netcdf]\n",
            "Saving to: ‘kat4km.nc’\n",
            "\n",
            "kat4km.nc           100%[===================>] 155.90M  55.7MB/s    in 2.8s    \n",
            "\n",
            "2024-11-20 20:05:05 (55.7 MB/s) - ‘kat4km.nc’ saved [163471565/163471565]\n",
            "\n"
          ]
        }
      ]
    },
    {
      "cell_type": "code",
      "source": [
        "# USE THIS cell to SAVE NOTEBOOK as HTML\n",
        "# %%shell\n",
        "# jupyter nbconvert --to html  NAME"
      ],
      "metadata": {
        "id": "YyWEbu0j6sev"
      },
      "execution_count": null,
      "outputs": []
    }
  ]
}