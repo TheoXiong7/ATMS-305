{
  "nbformat": 4,
  "nbformat_minor": 0,
  "metadata": {
    "colab": {
      "provenance": []
    },
    "kernelspec": {
      "name": "python3",
      "display_name": "Python 3"
    }
  },
  "cells": [
    {
      "cell_type": "code",
      "metadata": {
        "id": "nHlCt0wZmS4n"
      },
      "source": [
        "# ATMS 305, Fall 2024 -- Lab25: Downburst\n",
        "# Here you plot and interrogate a simulation of a downburst."
      ],
      "execution_count": null,
      "outputs": []
    },
    {
      "cell_type": "code",
      "metadata": {
        "id": "6Twtk6dyS0lI"
      },
      "source": [
        "# >> A. IMPORT\n",
        "#  ... you'll need numpy, matplotlib.pyplot, and xarray\n"
      ],
      "execution_count": null,
      "outputs": []
    },
    {
      "cell_type": "code",
      "source": [
        "# >> B. GET and UNZIP THE DOWNBURST DATA FILES\n",
        "#\n",
        "# This is a simulation of a dry downburst, in 3-D\n",
        "#   1. !wget this file: rfd.atmos.uiuc.edu/305/downburst.zip\n",
        "#   2. unzip everything with:  !unzip -o downburst.zip\n",
        "#   3. save space: delete the .zip file:  !rm downburst.zip\n"
      ],
      "metadata": {
        "id": "mSBJ9WUso3kd"
      },
      "execution_count": null,
      "outputs": []
    },
    {
      "cell_type": "code",
      "metadata": {
        "id": "OzqLNI-iKaPe"
      },
      "source": [
        "# >> C. OPEN =ALL= DATASETS at ONCE\n",
        "#\n",
        "# We've done some work with Xarray for NetCDF data before.\n",
        "# What's new here: we open all 21 files (21 data times) together.\n",
        "# Info: https://docs.xarray.dev/en/stable/generated/xarray.open_mfdataset.html#xarray.open_mfdataset\n",
        "#       https://docs.xarray.dev/en/stable/user-guide/combining.html\n",
        "#\n",
        "#   1. Use: DS = xr.open_mfdataset( 'wrfout*.nc', option, option... )\n",
        "#     a) You need two options, separated by commas:\n",
        "#     b) Option 1: combine='nested'   ...for when data is split across many files\n",
        "#     c) Option 2: concat_dim='time'  ...concatenation is on dimension 'time'\n",
        "#\n",
        "#   2. See the data content preview by just running \"DS\"\n",
        "#\n",
        "#   The 3-D data includes:\n",
        "#     a) temp:  temperature\n",
        "#     b) theta: \"potential\" temperature perturbation --\n",
        "#            potential = doesn't change in dry ascent/descent\n",
        "#     c) pres:  pressure\n",
        "#     d) u:     east-west/horizontal airflow\n",
        "#     e) w:     up-down/vertical airflow\n",
        "#\n",
        "# CHECK: the 'Dimensions' should say:  time: 21, NX: 45, NY: 89, NZ: 21\n",
        "# X is west-east, Y is north-south and Z is up/down (so: 21 vertical levels)\n",
        "# The data is STORED in python as: [time, Z, Y, X]\n"
      ],
      "execution_count": null,
      "outputs": []
    },
    {
      "cell_type": "code",
      "metadata": {
        "id": "ULD8RnCgUVK-"
      },
      "source": [
        "# >> D. EXAMINE \"W\" data\n",
        "#\n",
        "#   The vertical velocity ('w') data is stored as:  DS.w\n",
        "#\n",
        "#   1. Show the 'w' array dimensions with .shape\n",
        "#\n",
        "# CHECK: dimensions = time (21 times), Z (21 levels), Y (89 rows), X (45 columns)\n"
      ],
      "execution_count": null,
      "outputs": []
    },
    {
      "cell_type": "code",
      "metadata": {
        "id": "8aX3xl5FcraL"
      },
      "source": [
        "# >> E. PLOT X-Y SLICE of W at Z=200m\n",
        "#\n",
        "# > Remember the data is stored with dimensions [T,Z,Y,X]\n",
        "#\n",
        "#  Start a 10x5\" figure, with 1 row, 2 columns.\n",
        "#\n",
        "#  1. Left figure: Plot a X-Y slice of W using DS.w[ ].plot --\n",
        "#    >> The statement looks like: DS.w[a,b,c,d].plot()\n",
        "#    a) Set first index inside [] of DS.w[] to be 5 (for file \"wrfout05.nc\")\n",
        "#    b) Use 2nd index = 1 (0=surface, 1=200m above ground)\n",
        "#    c) Use 3rd index = : (for all Y points)\n",
        "#    d) Use 4th index = : (for all X points; this will be a X-Y plot)\n",
        "#    e) Append .plot() after closing brace!\n",
        "#    e) Add title with plt.title:  X-Y PLOT OF W at Time=5\n",
        "#\n",
        "#  2. Right figure: Same X-Y plot - later time\n",
        "#    a) use time index 15 (=file wrfout15.nc)\n",
        "#    a) add title: X-Y PLOT OF W at Time=15\n",
        "#\n",
        "# This syntax is similar to pandas ...  (field.plot())\n",
        "# Notice how x/y labels and colorbar are done for you!!\n",
        "#\n",
        "#  3. Add tight_layout\n",
        "#\n",
        "#  4. Add a \"suptitle\" --\n",
        "#       https://how2matplotlib.com/matplotlibpyplotsuptitle-function-in-python.html\n",
        "#    a) change plt.figure(...) to: fig=plt.figure(...)\n",
        "#    b) somewhere in cell, put: fig.suptitle('E. W XY vs. Time',fontsize=18);\n",
        "#\n",
        "# CHECK: colorbar runs -300 ... +300 -- actually cm/s, not m/s\n",
        "#      : blue is downdraft, red is updraft; cold downburst Starts ~ right edge\n",
        "#      : it spreads out horizontally by time index 15\n",
        "#      : xarray/matplotlib adapts the colors automatically (So: scale changes)\n"
      ],
      "execution_count": null,
      "outputs": []
    },
    {
      "cell_type": "code",
      "source": [
        "# >> F. REDO: X-Y SLICE of W at Z=200m\n",
        "#\n",
        "#  1. Copy code from the last cell here.\n",
        "#  2. Change DS.w[].plot() to:  DS.w[].plot.contourf()\n",
        "#       this effectively smoothes out the rough figures above.\n",
        "#  3. Inside BOTH contourf() statements, add option: vmin=-400,vmax=400\n",
        "#    a) try it and see, but you could consider adding:  cmap='jet' or 'rainbow'\n",
        "#    b) colormaps: https://matplotlib.org/stable/gallery/color/colormap_reference.html\n",
        "#  4. Add titles with plt.title:  X-Y PLOT OF W at Time=5 (or Time=15)\n",
        "#  5. Add suptitle: 'F. Revised W XY vs. Time'\n"
      ],
      "metadata": {
        "id": "RKIth3Lr9bL2"
      },
      "execution_count": null,
      "outputs": []
    },
    {
      "cell_type": "code",
      "metadata": {
        "id": "3XlqD_y_WpuC"
      },
      "source": [
        "# >> G. PLOT X-T (SPACE-TIME) SLICE of W at Z=200m\n",
        "#\n",
        "#  Again: DS.w field\n",
        "#  1. 1st index is ':' (for all times)\n",
        "#  2. 2nd index 1      (200m AGL)\n",
        "#  3. 3rd index 45     (~middle of Y domain)\n",
        "#  4. 4th index is ':' (for all X)\n",
        "#  5. add .plot() as before\n",
        "#        ... if you wish: use plot.contourf() and/or cmap=\n",
        "#  6. Add title: G: X-T plot of W at 200m\n",
        "#\n",
        "#  CHECK: strongest downdrafts near time '1' are on right side (X ~ 37)\n",
        "#          ... and they spread to left (west) at later times.\n"
      ],
      "execution_count": null,
      "outputs": []
    },
    {
      "cell_type": "code",
      "metadata": {
        "id": "PYfif029XLmM"
      },
      "source": [
        "# >> H. X-Y PLOT again but with 20 CONTOUR LEVELS\n",
        "#\n",
        "# 1. repeat earlier x-y plot but just one time (time index 10)\n",
        "# 2. use Z index 1 again (200m AGL)\n",
        "# 3. use .plot.contourf(levels=20)\n",
        "# 4. add title: H: X-Y plot of W with 20 contour levels\n"
      ],
      "execution_count": null,
      "outputs": []
    },
    {
      "cell_type": "code",
      "metadata": {
        "id": "JcPqcvVbcxr_"
      },
      "source": [
        "# >> I. 6-PANEL X-Y PLOT of TEMPERATURE\n",
        "#\n",
        "#  1. make a larger figsize; I used 14x7\"\n",
        "#\n",
        "#  2. start a for-loop for time index \"n\" with values 0, 4, ... 20 (including 20!!!)\n",
        "#       with interval 4 (we'll use this for-loop variable in DS.temp[] indexing)\n",
        "#\n",
        "#  3. In the loop, use plt.subplot(2,3,int(n/4)+1)  ...trust me :)\n",
        "#\n",
        "#  4. Make .plot.contourf plots, 20 levels, for DS.temp ... time index \"n\",\n",
        "#     2nd (z) index 0 (ground surface), and then :,: for Y and X\n",
        "#\n",
        "#  5. Add a title that shows the file number (n) >AND< the min value of this X-Y slice\n",
        "#     a) for title: use print syntax with np.min(DS.temp[..same indices as plot..])\n",
        "#        ... use %d for file number, XX.X (that's %4.1f) for np.min() value\n",
        "#        ... my titles looked like this: FILE 20, Temp X-Y min 23.1\n",
        "#\n",
        "#  6. Add suptitle, out of loop: I. Temperature X-Y vs. Time\n",
        "#\n",
        "#  7. Finish, out of loop, with tight_layout ... and run this cell!\n",
        "#\n",
        "#  8. Notice how the colors change - in plots and colorbar?\n",
        "#     >NOW< go back and in contourf() add options: ,vmin=19,vmax=27\n",
        "#     Run again - you're done.\n"
      ],
      "execution_count": null,
      "outputs": []
    },
    {
      "cell_type": "code",
      "metadata": {
        "id": "bayIuRd5YYne"
      },
      "source": [
        "# >> J. 6-PANEL X-Y PLOT of W (Revised)\n",
        "#\n",
        "# Repeat last figure but\n",
        "#   1. do contour plots for DS.w at time n, z level 1 (not zero)\n",
        "#   2. still use levels=20 in contourf\n",
        "#   3. don't use vmin= or vmax= for coloring of filled contours\n",
        "#   4. you pick title but still show file number and np.min of the W slice\n",
        "#   5. add suptitle: J. Revised Temp. X-Y vs. Time\n",
        "#   6. use tight_layout again\n"
      ],
      "execution_count": null,
      "outputs": []
    },
    {
      "cell_type": "code",
      "metadata": {
        "id": "jIyC1V5jblbn"
      },
      "source": [
        "# >> K. VERTICAL 6-PANEL X-Z Slice Plot of W\n",
        "#\n",
        "#  1: DS.w[] again\n",
        "#  2. for-loop n = 0 ... 5 by 1 (including time n=5!!)\n",
        "#  3. subplot with (2,3,n+1)\n",
        "#  4. Plot XZ plot of DS.w for time index n, 3rd (y) index=45,\n",
        "#       using ':' for Z and X indices, and plot.contourf(levels=10)\n",
        "#  5. Same sort of title\n",
        "#  6. Add a suptitle: 'K. W X-Z vs. Time'\n",
        "#  7. tight_layout again\n"
      ],
      "execution_count": null,
      "outputs": []
    },
    {
      "cell_type": "code",
      "source": [
        "# >> L. ADD your OWN 6-panel PLOT\n",
        "#\n",
        "#   1. Do another 6-panel plot ... it just can't be one done before in this lab\n",
        "#   2. You can choose the variable from list of variables at top (in cell C)\n",
        "#   3. You choose the domain between X, Y, Z, and time (some variables only 2D, though)\n",
        "#   4. Add a meaningful title for each panel with min or max of your variable!\n",
        "#   5. Add a suptitle.\n"
      ],
      "metadata": {
        "id": "JAMN8kxlCGRR"
      },
      "execution_count": null,
      "outputs": []
    },
    {
      "cell_type": "code",
      "metadata": {
        "id": "4y5weFutcDu4"
      },
      "source": [
        "# USE THIS cell to SAVE NOTEBOOK as HTML\n",
        "# 1. LEAVE this cell COMMENTED OUT until your code works.\n",
        "# 2. Still with this commented out, save notebook.ipynb file to your PC.\n",
        "# 3. Upload the .ipynb file from your PC to Colab space\n",
        "# 4. NOW uncomment this cell\n",
        "# 5. Change filename below (after \"--to html\") to this notebook's name\n",
        "# 6. Run JUST this cell.\n",
        "# 7. Find the new .html file; Refresh the Colab file list if need be\n",
        "# 8. Save (from 3-dots) the .html file to your PC.\n",
        "# 9. Upload both the .ipynb and the .html files to MOODLE.\n",
        "# %%shell\n",
        "# jupyter nbconvert --to html  NAME"
      ],
      "execution_count": null,
      "outputs": []
    },
    {
      "cell_type": "code",
      "source": [],
      "metadata": {
        "id": "Yvz7bW0yN5pM"
      },
      "execution_count": null,
      "outputs": []
    }
  ]
}