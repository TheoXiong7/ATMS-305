{
  "nbformat": 4,
  "nbformat_minor": 0,
  "metadata": {
    "colab": {
      "provenance": []
    },
    "kernelspec": {
      "name": "python3",
      "display_name": "Python 3"
    },
    "language_info": {
      "name": "python"
    }
  },
  "cells": [
    {
      "cell_type": "code",
      "source": [
        "# ATMS 305 - FALL 2024 - Quiz #1: Hurricane Ian\n",
        "#\n",
        "# Hurricane Ian struck Florida in 2022 as\n",
        "#   a particularly deadly and destructive storm.\n",
        "# We'll work images and track data from this tropical cyclone."
      ],
      "metadata": {
        "id": "vjCcEqWcSK_M"
      },
      "execution_count": null,
      "outputs": []
    },
    {
      "cell_type": "code",
      "execution_count": null,
      "metadata": {
        "id": "K8LzX1n_tEqv"
      },
      "outputs": [],
      "source": [
        "# >> A. IMPORT matplotlib's .image and .pyplot as usual.\n",
        "#       Also get Pandas: import as pd\n"
      ]
    },
    {
      "cell_type": "code",
      "source": [
        "# >> B. GET+READ IAN IMAGES\n",
        "# 1. Go to this directory and see the four files listed there:\n",
        "#           rfd.atmos.uiuc.edu/305/.quiz01\n",
        "# 2. Download the three Ian .jpg files there with wget\n",
        "#      (or retrieve via browser & copy to Colab)\n",
        "# 3. Read in all the images with imread() ...\n",
        "#       choose the Python name of the images to be: ir or IR (for infrared),\n",
        "#                            vis/VIS (for visible), rad/RAD (for radar).\n",
        "#       Remember: imread() is only for images!\n",
        "#\n",
        "# 4. Use \".shape\" to find out the dimensions of the IR or VIS image.\n",
        "#\n",
        "# INFO: 2nd dimension (columns) of ir/vis satellite images is 1250.\n"
      ],
      "metadata": {
        "id": "-eudA5ZF1Vq_"
      },
      "execution_count": null,
      "outputs": []
    },
    {
      "cell_type": "code",
      "source": [
        "# >> C. PLOT IAN IMAGERY\n",
        "# 1. Start a new plot figure with dpi=200\n",
        "# 2. Create a 1-row, 3-figure table (i.e. horizontal image layout)\n",
        "#    ... display all 3 images, with a descriptive title for each.\n",
        "#    ... no x/y label needed, and don't worry about the default tick marks.\n",
        "# 3. If needed, call \"plt.tight_layout()\" to clean up the result.\n"
      ],
      "metadata": {
        "id": "5ijf6wlo3j18"
      },
      "execution_count": null,
      "outputs": []
    },
    {
      "cell_type": "code",
      "source": [
        "# >> D. GET, SHOW TRACK DATA\n",
        "# 1. Use wget to retrieve the Ian track file,'IANtrack.csv'\n",
        "# 2. Use Panda's read_csv() routine to read in the csv data;\n",
        "#      name the track data variable \"track\"\n",
        "# 3. Show the contents of your 'track' variable.\n"
      ],
      "metadata": {
        "id": "-jBGY2Vf3_V7"
      },
      "execution_count": null,
      "outputs": []
    },
    {
      "cell_type": "code",
      "source": [
        "# >> E. PLOT MAX WIND vs. time\n",
        "# 1. Use plt.plot() to plot the track hour (HR) and max sustained wind (WIND)\n",
        "#   a) Show hour on the X-axis (abscissa)\n",
        "#   b) Show wind on the Y-axis (ordinate).\n",
        "# 2. Add \"plt.grid()\" to add ... gridlines!\n",
        "# 3. Add x-label: Hours\n",
        "# 4/ Add y-label: Winds (mph)\n",
        "# 4. Add title: IAN (2022) wind vs. time\n"
      ],
      "metadata": {
        "id": "yo7gNgGS4DBy"
      },
      "execution_count": null,
      "outputs": []
    },
    {
      "cell_type": "code",
      "source": [
        "# >>> F. RETRIEVE SAILING IMAGE\n",
        "# Grab this image:\n",
        "#      http://rfd.atmos.uiuc.edu/305/.quiz01/SailingBarryButler.png\n",
        "#\n",
        "# Photograph copyright of Chicago photographer Barry Butler:\n",
        "#   https://www.facebook.com/barrybutlerphotography/photos/a.543325305755072/2404270692993848/\n",
        "#\n"
      ],
      "metadata": {
        "id": "BAGQljvnHRaC"
      },
      "execution_count": null,
      "outputs": []
    },
    {
      "cell_type": "code",
      "source": [
        "# >>> G. READ IN SAILING IMAGE\n",
        "# Read in the SailingBarryButler.png image -- into Python variable \"sailing\"\n"
      ],
      "metadata": {
        "id": "r368PxoTHZ1Q"
      },
      "execution_count": null,
      "outputs": []
    },
    {
      "cell_type": "code",
      "source": [
        "# >>> H. DISPLAY IMAGE TABLE - color + RGB\n",
        "# Make a 2x2 table of sailing images: color + red/green/blue.\n",
        "# Note: we use color map 'gray' not 'Greys' below!\n",
        "# 1. Start new figure with dpi=200\n",
        "# 2. For the top left image (plot panel #1), show the full color image with imshow().\n",
        "#      ... add title 'Full color'\n",
        "# 3. For the top right panel #2, display the red channel with color map 'gray'\n",
        "#      ... like this: plt.imshow(sailing[:,:,0],cmap='gray')\n",
        "#      ... add title 'Red'\n",
        "# 4. Do similarly with plot panels 3 and 4 for the green [:,:,1]\n",
        "#      ... and blue [:,:,1] channels; add titles and use cmap='gray'\n",
        "# 5. Use tight_layout to clean things up.\n",
        "# CHECK: The red part of the image should be nearly black except for Chicago, and sailboats.\n"
      ],
      "metadata": {
        "id": "1QszVcme4GBy"
      },
      "execution_count": null,
      "outputs": []
    },
    {
      "cell_type": "code",
      "source": [
        "# USE THIS cell to SAVE NOTEBOOK as HTML\n",
        "# 1. LEAVE this cell COMMENTED OUT until your code works.\n",
        "# 2. Still with this commented out, save notebook.ipynb file to your PC.\n",
        "# 3. Upload the .ipynb file from your PC to Colab space\n",
        "# 4. NOW uncomment this cell\n",
        "# 5. Change filename below (after \"--to html\") to this notebook's name\n",
        "# 6. Run JUST this cell.\n",
        "# 7. Find the new .html file; Refresh the Colab file list if need be\n",
        "# 8. Save (from 3-dots) the .html file to your PC.\n",
        "# 9. Upload both the .ipynb and the .html files to CANVAS.\n",
        "# %%shell\n",
        "# jupyter nbconvert --to html  Quiz01_A305F24.ipynb"
      ],
      "metadata": {
        "id": "5_nW2x1yrm_k"
      },
      "execution_count": null,
      "outputs": []
    }
  ]
}